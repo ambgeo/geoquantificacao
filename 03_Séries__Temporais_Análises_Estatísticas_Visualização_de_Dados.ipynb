{
  "cells": [
    {
      "cell_type": "markdown",
      "metadata": {
        "id": "view-in-github",
        "colab_type": "text"
      },
      "source": [
        "<a href=\"https://colab.research.google.com/github/ambgeo/geoquantificacao/blob/main/03_S%C3%A9ries__Temporais_An%C3%A1lises_Estat%C3%ADsticas_Visualiza%C3%A7%C3%A3o_de_Dados.ipynb\" target=\"_parent\"><img src=\"https://colab.research.google.com/assets/colab-badge.svg\" alt=\"Open In Colab\"/></a>"
      ]
    },
    {
      "cell_type": "markdown",
      "metadata": {
        "id": "wfUYaWSXB8VA"
      },
      "source": [
        "# 📈 Séries Temporais no GEE: CHIRPS (Precipitação) + MODIS LST (Temperatura Superficial)\n",
        "\n",
        "**Objetivo:** Autenticar no GEE, definir ROI desenhando no `geemap`, extrair séries de 2024 para **CHIRPS (precipitação diária)** e **MODIS/061/MOD11A2 (temperatura superficial do dia, 8 dias)**, calcular estatísticas, plotar gráficos e mapear **precipitação acumulada** e **temperatura média**.\n",
        "\n",
        "**Passos:**\n",
        "* 1) Autenticação  \n",
        "* 2) Seleção da área de estudo `roi = Map.user_roi`  \n",
        "* 3) Dados de 2024 (jan–dez)  \n",
        "* 4) Série temporal (colunas: `data`, `ano`, `mes`, `precip_media_mm`, `temp_acum_c_dia`)  \n",
        "* 5) Gráfico da série histórica (precipitação e temperatura)  \n",
        "* 6) Gráfico mensal (precipitação acumulada e temperatura média)  \n",
        "* 7) Mapas: Precipitação acumulada e Temperatura média  \n"
      ],
      "id": "wfUYaWSXB8VA"
    },
    {
      "cell_type": "markdown",
      "metadata": {
        "id": "OhHFmGQiB8VB"
      },
      "source": [
        "## 1) Autenticação"
      ],
      "id": "OhHFmGQiB8VB"
    },
    {
      "cell_type": "code",
      "execution_count": null,
      "metadata": {
        "id": "JJF8JHebB8VC"
      },
      "outputs": [],
      "source": [
        "import ee\n",
        "try:\n",
        "    ee.Authenticate()\n",
        "except Exception as e:\n",
        "    print('Se já autenticou anteriormente nesta máquina, pode ignorar este aviso:', e)\n",
        "ee.Initialize(project='ee-scriptsambgeo')\n",
        "print('GEE inicializado!')"
      ],
      "id": "JJF8JHebB8VC"
    },
    {
      "cell_type": "markdown",
      "metadata": {
        "id": "WEvfhSfgB8VC"
      },
      "source": [
        "## 2) Seleção da ROI desenhando no `geemap`\n",
        "1. Execute a célula do mapa.\n",
        "2. Clique no ícone **Draw** (lápis) e desenhe um **polígono**.\n",
        "3. Execute a célula de captura de ROI."
      ],
      "id": "WEvfhSfgB8VC"
    },
    {
      "cell_type": "code",
      "execution_count": null,
      "metadata": {
        "id": "nn8xeBcWB8VC"
      },
      "outputs": [],
      "source": [
        "# Se necessário: !pip -q install geemap folium ipyleaflet\n",
        "import geemap\n",
        "Map = geemap.Map(center=[-15, -55], zoom=4)\n",
        "Map.addLayerControl()\n",
        "Map"
      ],
      "id": "nn8xeBcWB8VC"
    },
    {
      "cell_type": "code",
      "execution_count": null,
      "metadata": {
        "id": "aj7zxqpXB8VD"
      },
      "outputs": [],
      "source": [
        "# Capturar a ROI desenhada\n",
        "roi = Map.user_roi\n",
        "Map.centerObject(roi, 8)\n",
        "Map.addLayer(roi, {\"color\":\"red\"}, 'ROI')\n",
        "print('ROI definida!')\n",
        "Map"
      ],
      "id": "aj7zxqpXB8VD"
    },
    {
      "cell_type": "markdown",
      "metadata": {
        "id": "1k8jZW-aB8VD"
      },
      "source": [
        "## 3) Intervalo de datas (2024) e coleções CHIRPS + MODIS LST"
      ],
      "id": "1k8jZW-aB8VD"
    },
    {
      "cell_type": "code",
      "execution_count": null,
      "metadata": {
        "id": "OVNGmB8rB8VD"
      },
      "outputs": [],
      "source": [
        "import datetime as dt\n",
        "\n",
        "start_py = '2024-01-01'\n",
        "end_py   = '2025-01-01'\n",
        "\n",
        "# CHIRPS DAILY (mm/dia) - banda 'precipitation'\n",
        "chirps = (ee.ImageCollection('UCSB-CHG/CHIRPS/DAILY')\n",
        "          .filterBounds(roi)\n",
        "          .filterDate(start_py, end_py)\n",
        "          .select('precipitation'))\n",
        "\n",
        "# MODIS Terra LST 8-day (K * 0.02 -> °C) - banda 'LST_Day_1km'\n",
        "modis = (ee.ImageCollection('MODIS/061/MOD11A2')\n",
        "         .filterBounds(roi)\n",
        "         .filterDate(start_py, end_py)\n",
        "         .select('LST_Day_1km'))\n",
        "\n",
        "def to_celsius(img):\n",
        "    lst_c = img.multiply(0.02).subtract(273.15).rename('LST_C')\n",
        "    return lst_c.copyProperties(img, img.propertyNames())\n",
        "\n",
        "modis_c = modis.map(to_celsius)\n",
        "\n",
        "print('CHIRPS imgs:', chirps.size().getInfo(), '| MODIS imgs:', modis_c.size().getInfo())"
      ],
      "id": "OVNGmB8rB8VD"
    },
    {
      "cell_type": "markdown",
      "metadata": {
        "id": "0rCYISAsB8VD"
      },
      "source": [
        "## 4) Série temporal (ReduceRegion por imagem) → DataFrame\n",
        "Resultado: colunas `data`, `ano`, `mes`, `precip_media_mm`, `temp_acum_c_dia`.\n",
        "\n",
        "- **precip_media_mm**: média da precipitação diária (mm) na ROI (CHIRPS).  \n",
        "- **temp_acum_c_dia**: temperatura **acumulada** por composição MODIS (≈ 8 dias), calculada como `média(°C) * 8` → unidade **°C·dia**."
      ],
      "id": "0rCYISAsB8VD"
    },
    {
      "cell_type": "code",
      "execution_count": null,
      "metadata": {
        "id": "4sah_jYhB8VD"
      },
      "outputs": [],
      "source": [
        "import pandas as pd\n",
        "\n",
        "def reduce_image_mean(img, band_name, geom):\n",
        "    stat = img.reduceRegion(\n",
        "        reducer=ee.Reducer.mean(),\n",
        "        geometry=geom,\n",
        "        scale=500 if band_name=='LST_C' else 5566,\n",
        "        maxPixels=1e13\n",
        "    )\n",
        "    return ee.Feature(None, {\n",
        "        'date': ee.Date(img.get('system:time_start')).format('YYYY-MM-dd'),\n",
        "        'year': ee.Number.parse(ee.Date(img.get('system:time_start')).format('YYYY')),\n",
        "        'month': ee.Number.parse(ee.Date(img.get('system:time_start')).format('MM')),\n",
        "        band_name: stat.get(band_name)\n",
        "    })"
      ],
      "id": "4sah_jYhB8VD"
    },
    {
      "cell_type": "code",
      "source": [
        "# CHIRPS: média diária mm\n",
        "chirps_fc = chirps.map(lambda im: reduce_image_mean(im, 'precipitation', roi))\n",
        "chirps_df = pd.DataFrame([f['properties'] for f in chirps_fc.getInfo()['features']])\n",
        "chirps_df.rename(columns={'precipitation':'precip_media_mm', 'date':'data','year':'ano','month':'mes'}, inplace=True)\n",
        "chirps_df['data'] = pd.to_datetime(chirps_df['data'])\n",
        "\n",
        "# MODIS: média °C e 'acumulado' (°C·dia) ≈ mean*8\n",
        "modis_fc = modis_c.map(lambda im: reduce_image_mean(im, 'LST_C', roi))\n",
        "modis_df = pd.DataFrame([f['properties'] for f in modis_fc.getInfo()['features']])\n",
        "modis_df.rename(columns={'LST_C':'temp_media_c','date':'data','year':'ano','month':'mes'}, inplace=True)\n",
        "modis_df['data'] = pd.to_datetime(modis_df['data'])\n",
        "\n",
        "\n",
        "# Unir séries por data\n",
        "df = pd.merge(chirps_df[['data','ano','mes','precip_media_mm']],\n",
        "              modis_df[['data','temp_media_c']],\n",
        "              on='data', how='outer').sort_values('data').reset_index(drop=True)\n",
        "\n",
        "df.head()"
      ],
      "metadata": {
        "id": "flwA05u8DF4H"
      },
      "id": "flwA05u8DF4H",
      "execution_count": null,
      "outputs": []
    },
    {
      "cell_type": "markdown",
      "metadata": {
        "id": "eLmBTTi1B8VE"
      },
      "source": [
        "## 5) Gráfico da série histórica (2024)\n",
        "- Linha: **temperatura média (°C)**\n",
        "- Barras: **precipitação diária média (mm)**\n",
        "\n",
        "> Um gráfico por figura, usando apenas matplotlib."
      ],
      "id": "eLmBTTi1B8VE"
    },
    {
      "cell_type": "code",
      "execution_count": null,
      "metadata": {
        "id": "m9wJ4LD6B8VE"
      },
      "outputs": [],
      "source": [
        "import seaborn as sns\n",
        "import matplotlib.pyplot as plt\n",
        "import matplotlib.dates as mdates\n",
        "\n",
        "# Remove o grid padrão do seaborn\n",
        "sns.set_theme(style=\"white\")\n",
        "\n",
        "fig, ax1 = plt.subplots(figsize=(10, 4))\n",
        "\n",
        "# Barras = precipitação diária (azul)\n",
        "ax1.bar(\n",
        "    df['data'],\n",
        "    df['precip_media_mm'].fillna(0),\n",
        "    width=2, align='center',\n",
        "    color='blue', edgecolor='none'\n",
        ")\n",
        "ax1.set_ylabel('Precipitação (mm/dia)')\n",
        "ax1.grid(False)\n",
        "\n",
        "# Linha = temperatura média (vermelho)\n",
        "ax2 = ax1.twinx()\n",
        "sns.lineplot(\n",
        "    data=df, x='data', y='temp_media_c',\n",
        "    marker='o', linewidth=1, color='red', ax=ax2\n",
        ")\n",
        "ax2.set_ylabel('Temperatura média (°C)')\n",
        "ax2.grid(False)\n",
        "\n",
        "# Eixo de datas\n",
        "ax1.xaxis.set_major_locator(mdates.MonthLocator())\n",
        "ax1.xaxis.set_major_formatter(mdates.DateFormatter('%b/%y'))\n",
        "for label in ax1.get_xticklabels():\n",
        "    label.set_rotation(45)\n",
        "    label.set_ha('right')\n",
        "\n",
        "plt.title('Série histórica — Precipitação (CHIRPS) e Temperatura (MODIS LST) — 2024')\n",
        "fig.tight_layout()\n",
        "plt.show()\n"
      ],
      "id": "m9wJ4LD6B8VE"
    },
    {
      "cell_type": "markdown",
      "metadata": {
        "id": "E-LjlU6fB8VE"
      },
      "source": [
        "## 6) Gráfico mensal (precipitação acumulada e temperatura média)"
      ],
      "id": "E-LjlU6fB8VE"
    },
    {
      "cell_type": "code",
      "execution_count": null,
      "metadata": {
        "id": "DA8O3Pv0B8VE"
      },
      "outputs": [],
      "source": [
        "import seaborn as sns\n",
        "import matplotlib.pyplot as plt\n",
        "import matplotlib.dates as mdates\n",
        "import pandas as pd\n",
        "from matplotlib.lines import Line2D\n",
        "from matplotlib.patches import Patch\n",
        "\n",
        "# --- 1) Preparação dos dados (filtra 2024 e cria agregações mensais) ---\n",
        "d = df.copy()\n",
        "d['data'] = pd.to_datetime(d['data']).dt.tz_localize(None)                 # garante datetime sem timezone\n",
        "d = d[(d['data'] >= '2024-01-01') & (d['data'] < '2025-01-01')]            # mantém só 2024\n",
        "\n",
        "# Resample mensal (início do mês) -> 12 linhas\n",
        "mon = (d.set_index('data')\n",
        "         .resample('MS')\n",
        "         .agg(precip_mensal=('precip_media_mm','sum'),                     # mm/mês (acumulado)\n",
        "              temp_mensal=('temp_media_c','mean'))                         # °C (média do mês)\n",
        "         .reset_index())\n",
        "\n",
        "# Garante exatamente 12 meses, mesmo se faltarem dados\n",
        "idx = pd.date_range('2024-01-01','2024-12-01', freq='MS')\n",
        "mon = (mon.set_index('data')\n",
        "          .reindex(idx)\n",
        "          .reset_index()\n",
        "          .rename(columns={'index':'data'}))\n",
        "\n",
        "# --- 2) Aparência geral ---\n",
        "sns.set_theme(style=\"white\")  # fundo branco; sem grid do seaborn\n",
        "\n",
        "# --- 3) Figura e eixos ---\n",
        "fig, ax1 = plt.subplots(figsize=(10, 4))  # ax1 = precipitação (barras)\n",
        "\n",
        "# --- 4) Barras: precipitação acumulada mensal (12 valores) ---\n",
        "ax1.bar(\n",
        "    mon['data'],                          # 12 datas (início de cada mês)\n",
        "    mon['precip_mensal'].fillna(0),       # acumulado do mês (mm)\n",
        "    width=25, align='center',             # largura ~25 dias deixa visual agradável\n",
        "    color='blue', edgecolor='none'\n",
        ")\n",
        "ax1.set_ylabel('Precipitação acumulada (mm)')\n",
        "ax1.grid(False)\n",
        "\n",
        "# --- 5) Linha: temperatura média mensal (12 valores) ---\n",
        "ax2 = ax1.twinx()                         # eixo secundário para temperatura\n",
        "sns.lineplot(\n",
        "    data=mon, x='data', y='temp_mensal',\n",
        "    marker='o', linewidth=1, color='red', ax=ax2,\n",
        "    legend=False                          # evita legenda automática do seaborn\n",
        ")\n",
        "ax2.set_ylabel('Temperatura média (°C)')\n",
        "ax2.grid(False)\n",
        "\n",
        "# --- 6) Eixo de datas (marcas mensais e rótulos Mês/Ano) ---\n",
        "ax1.xaxis.set_major_locator(mdates.MonthLocator())\n",
        "ax1.xaxis.set_major_formatter(mdates.DateFormatter('%b/%y'))\n",
        "for label in ax1.get_xticklabels():\n",
        "    label.set_rotation(45)\n",
        "    label.set_ha('right')\n",
        "\n",
        "# --- 7) Legenda única, no topo central ---\n",
        "handles = [\n",
        "    Patch(facecolor='blue', edgecolor='none', label='Precipitação (mm/mês)'),\n",
        "    Line2D([0], [0], color='red', marker='o', linewidth=1, label='Temperatura média (°C)')\n",
        "]\n",
        "fig.legend(handles=handles, loc='upper center', ncol=2, frameon=False, bbox_to_anchor=(0.5, 0.02))\n",
        "\n",
        "# --- 8) Título e layout ---\n",
        "plt.title('Mensal — Precipitação acumulada (CHIRPS) e Temperatura média (MODIS) — 2024', y=1.06)\n",
        "fig.tight_layout(rect=[0, 0, 1, 0.92])    # reserva espaço para a legenda no topo\n",
        "plt.show()\n"
      ],
      "id": "DA8O3Pv0B8VE"
    },
    {
      "cell_type": "markdown",
      "metadata": {
        "id": "glFWhP9SB8VE"
      },
      "source": [
        "## 7) Mapas: Precipitação acumulada (mm) e Temperatura média (°C) — 2024"
      ],
      "id": "glFWhP9SB8VE"
    },
    {
      "cell_type": "code",
      "execution_count": null,
      "metadata": {
        "id": "T2VxsgeFB8VE"
      },
      "outputs": [],
      "source": [
        "precip_acc = chirps.sum().rename('precip_2024_mm').clip(roi)\n",
        "temp_mean_img = modis_c.mean().rename('lst_mean_c_2024').clip(roi)\n",
        "\n",
        "\n",
        "palette_blues = [\n",
        "    '#f7fbff', '#deebf7', '#c6dbef', '#9ecae1',\n",
        "    '#6baed6', '#4292c6', '#2171b5', '#08519c', '#08306b'\n",
        "]\n",
        "\n",
        "palette_warm = [\n",
        "    '#ffffcc', '#ffeda0', '#fed976', '#feb24c',\n",
        "    '#fd8d3c', '#fc4e2a', '#e31a1c', '#bd0026', '#800026'\n",
        "]\n",
        "\n",
        "\n",
        "# --- 3) Visualização no mapa com paletas dedicadas ---\n",
        "# Precipitação acumulada (mm) — tons de azul\n",
        "Map.addLayer(\n",
        "    precip_acc,\n",
        "    {\"min\": 1200, \"max\": 2300, \"palette\": palette_blues},\n",
        "    \"Precipitação acumulada 2024 (mm)\"\n",
        ")\n",
        "\n",
        "# Temperatura média (°C) — tons quentes\n",
        "Map.addLayer(\n",
        "    temp_mean_img,\n",
        "    {\"min\": 20, \"max\": 30, \"palette\": palette_warm},\n",
        "    \"Temperatura média 2024 (°C)\"\n",
        ")\n",
        "\n",
        "Map.addLayer(roi, {\"color\":\"red\"}, 'ROI')\n",
        "Map"
      ],
      "id": "T2VxsgeFB8VE"
    }
  ],
  "metadata": {
    "kernelspec": {
      "display_name": "Python 3",
      "language": "python",
      "name": "python3"
    },
    "language_info": {
      "name": "python",
      "version": "3.x"
    },
    "colab": {
      "provenance": [],
      "include_colab_link": true
    }
  },
  "nbformat": 4,
  "nbformat_minor": 5
}
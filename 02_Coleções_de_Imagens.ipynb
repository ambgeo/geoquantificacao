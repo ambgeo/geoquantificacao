{
  "cells": [
    {
      "cell_type": "markdown",
      "metadata": {
        "id": "view-in-github",
        "colab_type": "text"
      },
      "source": [
        "<a href=\"https://colab.research.google.com/github/ambgeo/geoquantificacao/blob/main/02_Cole%C3%A7%C3%B5es_de_Imagens.ipynb\" target=\"_parent\"><img src=\"https://colab.research.google.com/assets/colab-badge.svg\" alt=\"Open In Colab\"/></a>"
      ]
    },
    {
      "cell_type": "markdown",
      "metadata": {
        "id": "e62hGCJppTpU"
      },
      "source": [
        "# 🛰️ GEE + geemap: L9 SR, NDVI/MNDWI e Máscaras (Água/Vegetação)\n",
        "\n",
        "Fluxo desta aula/notebook:\n",
        "* 1) Autenticação\n",
        "* 2) Definição da ROI usando `Map.user_roi`\n",
        "* 3) Selecionar a **imagem Landsat 9 SR** com **menor percentual de nuvem** na ROI e **plota** as composições RGB (4‑3‑2) e SWIR/NIR/RED (6‑5‑4)\n",
        "* 4) Calcular **NDVI** e **MNDWI**\n",
        "* 5) Criar máscaras (vegetação `NDVI>0.6` e água `MNDWI>0.1`)\n",
        "* 6) Exibir no mapa a imagem RGB (cor verdadeira) com as máscaras sobrepostas (água em azul, vegetação em verde)"
      ],
      "id": "e62hGCJppTpU"
    },
    {
      "cell_type": "markdown",
      "metadata": {
        "id": "Ccapge2-pTpV"
      },
      "source": [
        "## 1) Autenticação\n",
        "Execute a célula abaixo para autenticar e iniciar a sessão do Earth Engine.\n",
        "> Ajuste o `project` se necessário."
      ],
      "id": "Ccapge2-pTpV"
    },
    {
      "cell_type": "code",
      "execution_count": null,
      "metadata": {
        "id": "BS85DvWqpTpW"
      },
      "outputs": [],
      "source": [
        "import ee\n",
        "try:\n",
        "    ee.Authenticate()\n",
        "except Exception as e:\n",
        "    print('Se já autenticou anteriormente nesta máquina, pode ignorar este aviso:', e)\n",
        "ee.Initialize(project='ee-scriptsambgeo')\n",
        "print('GEE inicializado!')"
      ],
      "id": "BS85DvWqpTpW"
    },
    {
      "cell_type": "markdown",
      "metadata": {
        "id": "lmArSjGLpTpW"
      },
      "source": [
        "## 2) Desenhar a ROI no `geemap` e capturar `Map.user_roi`\n",
        "1. Rode a célula abaixo para abrir o mapa.\n",
        "2. Use a ferramenta **Draw** (ícone do lápis) para desenhar um **polígono**.\n",
        "3. Depois, rode a célula de **captura de ROI** para usar a geometria nas análises."
      ],
      "id": "lmArSjGLpTpW"
    },
    {
      "cell_type": "code",
      "execution_count": null,
      "metadata": {
        "id": "4XwFy-dxpTpW"
      },
      "outputs": [],
      "source": [
        "# Se necessário: !pip -q install geemap folium ipyleaflet\n",
        "import geemap\n",
        "Map = geemap.Map(center=[-15, -55], zoom=4)\n",
        "Map.addLayerControl()\n",
        "Map"
      ],
      "id": "4XwFy-dxpTpW"
    },
    {
      "cell_type": "code",
      "execution_count": null,
      "metadata": {
        "id": "LLfD0H2FpTpX"
      },
      "outputs": [],
      "source": [
        "# Capturar a ROI desenhada pelo usuário\n",
        "roi = Map.user_roi\n",
        "Map.centerObject(roi, 10)\n",
        "Map.addLayer(roi, {\"color\":\"red\"}, 'ROI')\n",
        "print('ROI definida!')\n",
        "Map"
      ],
      "id": "LLfD0H2FpTpX"
    },
    {
      "cell_type": "markdown",
      "metadata": {
        "id": "xkV-x9HmpTpX"
      },
      "source": [
        "## 3) Landsat 9 SR — menor nuvem e composições RGB e 6‑5‑4\n",
        "- Usaremos **LANDSAT/LC09/C02/T1_L2** (Surface Reflectance / Level‑2).\n",
        "- Escalonamento das bandas ópticas: `reflectance = DN * 0.0000275 + (-0.2)`.\n",
        "- Máscara simples baseada em `QA_PIXEL` (nuvem, cirrus, cloud shadow, dilated)."
      ],
      "id": "xkV-x9HmpTpX"
    },
    {
      "cell_type": "code",
      "execution_count": null,
      "metadata": {
        "id": "Glq01Kz5pTpX"
      },
      "outputs": [],
      "source": [
        "import datetime as dt\n",
        "\n",
        "def scale_mask_l9(image):\n",
        "    # Escala bands ópticas\n",
        "    optical = image.select('SR_B.*').multiply(0.0000275).add(-0.2)\n",
        "    img = image.addBands(optical, None, True)\n",
        "    # QA mask (bits: 1 dilated, 2 cirrus, 3 cloud, 4 cloud shadow)\n",
        "    qa = img.select('QA_PIXEL')\n",
        "    dilated = qa.bitwiseAnd(1<<1).neq(0)\n",
        "    cirrus  = qa.bitwiseAnd(1<<2).neq(0)\n",
        "    cloud   = qa.bitwiseAnd(1<<3).neq(0)\n",
        "    shadow  = qa.bitwiseAnd(1<<4).neq(0)\n",
        "    mask = dilated.Or(cirrus).Or(cloud).Or(shadow).Not()\n",
        "    return img.updateMask(mask)\n"
      ],
      "id": "Glq01Kz5pTpX"
    },
    {
      "cell_type": "code",
      "source": [
        "ee.Date(dt.datetime.now(dt.timezone.utc))"
      ],
      "metadata": {
        "id": "sWRSMQXjsX2G"
      },
      "id": "sWRSMQXjsX2G",
      "execution_count": null,
      "outputs": []
    },
    {
      "cell_type": "code",
      "execution_count": null,
      "metadata": {
        "id": "qUcgcUB_pTpX"
      },
      "outputs": [],
      "source": [
        "# Janela temporal (últimos 18 meses, ajuste se quiser)\n",
        "end = ee.Date(dt.datetime.now(dt.timezone.utc))\n",
        "start = end.advance(-24, 'month')\n",
        "\n",
        "col = (ee.ImageCollection('LANDSAT/LC09/C02/T1_L2')\n",
        "       .filterBounds(roi)\n",
        "       .filterDate(start, end)\n",
        "       .sort('CLOUD_COVER'))\n",
        "\n",
        "best = ee.Image(col.first())\n",
        "best = scale_mask_l9(best)\n",
        "\n",
        "print('Imagem selecionada:', best.get('LANDSAT_PRODUCT_ID').getInfo())\n",
        "print('CLOUD_COVER:', best.get('CLOUD_COVER').getInfo())\n",
        "print('Data:', ee.Date(best.get('system:time_start')).format('YYYY-MM-dd').getInfo())"
      ],
      "id": "qUcgcUB_pTpX"
    },
    {
      "cell_type": "code",
      "execution_count": null,
      "metadata": {
        "id": "zqiX3L0UpTpX"
      },
      "outputs": [],
      "source": [
        "# Visualizações\n",
        "viz_rgb = {\"bands\": ['SR_B4','SR_B3','SR_B2'], \"min\": 0.0, \"max\": 0.3}\n",
        "viz_654 = {\"bands\": ['SR_B6','SR_B5','SR_B4'], \"min\": 0.0, \"max\": 0.3}\n",
        "\n",
        "Map.addLayer(best, viz_rgb, 'L9 RGB (4-3-2)')\n",
        "Map.addLayer(best, viz_654, 'L9 SWIR/NIR/RED (6-5-4)')\n",
        "Map"
      ],
      "id": "zqiX3L0UpTpX"
    },
    {
      "cell_type": "markdown",
      "metadata": {
        "id": "RdLMrdAopTpY"
      },
      "source": [
        "## 4) Índices: NDVI e MNDWI\n",
        "- **NDVI** = (NIR - Red) / (NIR + Red) → Bands: `SR_B5` e `SR_B4`\n",
        "- **MNDWI** = (Green - SWIR1) / (Green + SWIR1) → Bands: `SR_B3` e `SR_B6`"
      ],
      "id": "RdLMrdAopTpY"
    },
    {
      "cell_type": "code",
      "execution_count": null,
      "metadata": {
        "id": "cKJnjyKFpTpY"
      },
      "outputs": [],
      "source": [
        "ndvi  = best.normalizedDifference(['SR_B5','SR_B4']).rename('NDVI')\n",
        "mndwi = best.normalizedDifference(['SR_B3','SR_B6']).rename('MNDWI')\n",
        "Map.addLayer(ndvi,  {\"min\":0, \"max\":1, \"palette\":['white','green']}, 'NDVI')\n",
        "Map.addLayer(mndwi, {\"min\":-1, \"max\":1, \"palette\":['purple','cyan']}, 'MNDWI')\n",
        "Map"
      ],
      "id": "cKJnjyKFpTpY"
    },
    {
      "cell_type": "markdown",
      "metadata": {
        "id": "iy139A3ipTpY"
      },
      "source": [
        "## 5) Máscaras (vegetação e água) sobre RGB\n",
        "- Vegetação: `NDVI > 0.6` (verde)\n",
        "- Água: `MNDWI > 0.1` (azul)"
      ],
      "id": "iy139A3ipTpY"
    },
    {
      "cell_type": "code",
      "execution_count": null,
      "metadata": {
        "id": "EK0JIa8LpTpY"
      },
      "outputs": [],
      "source": [
        "veg_mask   = ndvi.gt(0.7).selfMask()\n",
        "water_mask = mndwi.gt(0.1).selfMask()\n",
        "\n",
        "Map.addLayer(best, {\"bands\": ['SR_B4','SR_B3','SR_B2'], \"min\": 0.0, \"max\": 0.3}, 'RGB (base)')\n",
        "Map.addLayer(water_mask, {\"palette\": ['#0000FF']}, 'Água (MNDWI>0.1)', True, 0.7)\n",
        "Map.addLayer(veg_mask,   {\"palette\": ['#00FF00']}, 'Vegetação (NDVI>0.6)', True, 0.7)\n",
        "Map"
      ],
      "id": "EK0JIa8LpTpY"
    },
    {
      "cell_type": "markdown",
      "metadata": {
        "id": "8FAWfMNZpTpY"
      },
      "source": [
        "## 6) Área de corpos hídricos (km²) a partir do MNDWI\n",
        "Calcula a soma da área (em m²) apenas onde `MNDWI > 0.1` e converte para km²."
      ],
      "id": "8FAWfMNZpTpY"
    },
    {
      "cell_type": "code",
      "execution_count": null,
      "metadata": {
        "id": "xALVr_VYpTpY"
      },
      "outputs": [],
      "source": [
        "# Área de água (km²) com base na máscara MNDWI>0.1\n",
        "# (requer que 'water_mask' e 'roi' já estejam definidos)\n",
        "limite = ee.Geometry(ee.Image(best).geometry().bounds(1))\n",
        "water_area_img = ee.Image.pixelArea().updateMask(water_mask)  # m² por pixel onde há água\n",
        "\n",
        "area_dict = water_area_img.reduceRegion(\n",
        "    reducer=ee.Reducer.sum(),\n",
        "    geometry=limite,\n",
        "    scale=30,          # resolução do Landsat 9\n",
        "    maxPixels=1e13,\n",
        "    tileScale=4\n",
        ")\n",
        "\n",
        "water_km2 = ee.Number(area_dict.get('area')).divide(1e6)  # m² -> km²\n",
        "print('Área de corpos hídricos na ROI (km²):', water_km2.getInfo())\n"
      ],
      "id": "xALVr_VYpTpY"
    },
    {
      "cell_type": "code",
      "source": [
        "from google.colab import drive\n",
        "drive.mount('/content/drive')"
      ],
      "metadata": {
        "id": "CyluluCT3umv"
      },
      "id": "CyluluCT3umv",
      "execution_count": null,
      "outputs": []
    },
    {
      "cell_type": "code",
      "source": [
        "# 7) Exportar lâmina d’água como Shapefile (EPSG:4674)\n",
        "\n",
        "# Opcional: se quiser usar só a ROI, troque para:\n",
        "# export_geom = roi\n",
        "\n",
        "# 7.1) Vetorizar a máscara de água (MNDWI > 0.1)\n",
        "water_vectors = water_mask.rename('water').reduceToVectors(\n",
        "    geometry=limite,\n",
        "    scale=30,                       # Landsat 9\n",
        "    geometryType='polygon',\n",
        "    labelProperty='water',\n",
        "    eightConnected=True,\n",
        "    bestEffort=True,\n",
        "    maxPixels=1e13,\n",
        "    tileScale=4\n",
        ")\n",
        "\n",
        "# 7.2) Adicionar área (km²) a cada polígono\n",
        "def add_area_km2(f):\n",
        "    # área geodésica em m² -> km²\n",
        "    return f.set({'area_km2': f.geometry().area(1).divide(1e6)})\n",
        "water_vectors = water_vectors.map(add_area_km2)\n",
        "\n",
        "\n",
        "# (Opcional) visualizar no mapa\n",
        "# Map.addLayer(water_vectors_4674.style(color='0000FF', fillColor='0000FF66', width=1), {}, 'Água (vetor EPSG:4674)')\n",
        "\n",
        "# 7.3) Exportar para o Google Drive (Shapefile)\n",
        "task = ee.batch.Export.table.toDrive(\n",
        "    collection=water_vectors,\n",
        "    description='agua_mndwi',\n",
        "    folder='Geoquanti',            # mude se quiser outra pasta no Drive\n",
        "    fileNamePrefix='agua_mndwi',\n",
        "    fileFormat='SHP',\n",
        "    selectors=['water', 'area_km2']  # inclui o rótulo e a área; remova/adicione campos se quiser\n",
        ")\n",
        "task.start()\n",
        "print('Exportação iniciada para Google Drive > pasta \"Geoquanti\".')\n"
      ],
      "metadata": {
        "id": "8un0OKru3p0O"
      },
      "id": "8un0OKru3p0O",
      "execution_count": null,
      "outputs": []
    }
  ],
  "metadata": {
    "kernelspec": {
      "display_name": "Python 3",
      "language": "python",
      "name": "python3"
    },
    "language_info": {
      "name": "python",
      "version": "3.x"
    },
    "colab": {
      "provenance": [],
      "include_colab_link": true
    }
  },
  "nbformat": 4,
  "nbformat_minor": 5
}
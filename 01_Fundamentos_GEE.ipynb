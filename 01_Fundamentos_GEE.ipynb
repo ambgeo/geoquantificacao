{
  "cells": [
    {
      "cell_type": "markdown",
      "metadata": {
        "id": "view-in-github",
        "colab_type": "text"
      },
      "source": [
        "<a href=\"https://colab.research.google.com/github/ambgeo/geoquantificacao/blob/main/01_Fundamentos_GEE.ipynb\" target=\"_parent\"><img src=\"https://colab.research.google.com/assets/colab-badge.svg\" alt=\"Open In Colab\"/></a>"
      ]
    },
    {
      "cell_type": "markdown",
      "metadata": {
        "id": "pltbck2ehLFe"
      },
      "source": [
        "# 🛰️ Fundamentos do Google Earth Engine (GEE) — Notebook Simples\n",
        "\n",
        "Este notebook cobre, de forma direta, os fundamentos solicitados:\n",
        "* 1) **O que é o GEE**\n",
        "* 2) **Autenticação**\n",
        "* 3) **Abrir um mapa no geemap**\n",
        "* 4) **Definir a ROI a partir de um asset em `users/...`**\n",
        "* 5) **Abrir o dado do NASADEM**\n",
        "* 6) **Extrair média, mínimo e máximo para a ROI**\n",
        "* 7) **Plotar um gráfico usando `ee_to_df`**\n",
        "* 8) **Exportar a cena**"
      ],
      "id": "pltbck2ehLFe"
    },
    {
      "cell_type": "markdown",
      "metadata": {
        "id": "9ju3hPT4hLFf"
      },
      "source": [
        "## 1) O que é o GEE\n",
        "O **Google Earth Engine (GEE)** é uma plataforma de computação em nuvem para análise de dados geoespaciais em escala.\n",
        "Ela reúne um grande repositório de dados (imagens de satélite, modelos, vetores) e oferece uma API para processar tudo **no servidor**, sem precisar baixar dados localmente."
      ],
      "id": "9ju3hPT4hLFf"
    },
    {
      "cell_type": "markdown",
      "metadata": {
        "id": "YSPVeV49hLFf"
      },
      "source": [
        "## 2) Autenticação\n",
        "Execute a célula abaixo. Se for a primeira vez na sessão, será solicitado login.\n",
        "\n",
        "> Observação: o `project` abaixo está definido como `ee-scriptsambgeo` conforme solicitado. Ajuste se necessário."
      ],
      "id": "YSPVeV49hLFf"
    },
    {
      "cell_type": "code",
      "execution_count": null,
      "metadata": {
        "id": "yUPyyHCrhLFf"
      },
      "outputs": [],
      "source": [
        "import ee\n",
        "\n",
        "# 1) Autenticar (rode uma vez por sessão):\n",
        "try:\n",
        "    ee.Authenticate()  # Pode abrir uma janela para login; copie e cole o token.\n",
        "except Exception as e:\n",
        "    print('Se já autenticou anteriormente, você pode ignorar este aviso:', e)\n",
        "\n",
        "# 2) Inicializar a sessão do Earth Engine\n",
        "ee.Initialize(project='ee-scriptsambgeo')\n",
        "print('GEE inicializado com sucesso!')"
      ],
      "id": "yUPyyHCrhLFf"
    },
    {
      "cell_type": "markdown",
      "metadata": {
        "id": "ZBmZ48R5hLFg"
      },
      "source": [
        "## 3) Abrir um mapa no geemap\n",
        "Crie um mapa interativo. Se preferir, ajuste o centro/zoom."
      ],
      "id": "ZBmZ48R5hLFg"
    },
    {
      "cell_type": "code",
      "execution_count": null,
      "metadata": {
        "id": "00S8FUxThLFg"
      },
      "outputs": [],
      "source": [
        "# Se necessário: !pip install -q geemap folium ipyleaflet\n",
        "import geemap\n",
        "\n",
        "Map = geemap.Map(center=[-15, -55], zoom=4)\n",
        "Map.addLayerControl()\n",
        "Map"
      ],
      "id": "00S8FUxThLFg"
    },
    {
      "cell_type": "markdown",
      "metadata": {
        "id": "BaisSIwvhLFg"
      },
      "source": [
        "## 4) Definir a ROI desenhando no mapa\n",
        "\n",
        "- Use a ferramenta **Draw** do `geemap` (ícone de lápis no canto superior esquerdo do mapa) para desenhar um **polígono** delimitando sua área de interesse (ROI).\n",
        "- Após desenhar, execute a célula abaixo para capturar a geometria e usá-la nas análises.\n",
        "- A ROI será definida diretamente a partir das coordenadas desenhadas no mapa.\n",
        "\n",
        "> Dica: você pode apagar ou redesenhar a ROI no mapa a qualquer momento antes de executar a célula.\n"
      ],
      "id": "BaisSIwvhLFg"
    },
    {
      "cell_type": "code",
      "execution_count": null,
      "metadata": {
        "id": "totQ4ShlhLFg"
      },
      "outputs": [],
      "source": [
        "roi = Map.user_roi\n",
        "Map.centerObject(roi, 9)\n",
        "Map.addLayer(roi, {\"color\": \"red\"}, \"ROI\")\n",
        "Map"
      ],
      "id": "totQ4ShlhLFg"
    },
    {
      "cell_type": "markdown",
      "metadata": {
        "id": "Y9KEPeaghLFg"
      },
      "source": [
        "## 5) Abrir dado do NASADEM\n",
        "Usaremos o dataset **`NASA/NASADEM_HGT/001`** e a banda `elevation` (aprox. 30 m)."
      ],
      "id": "Y9KEPeaghLFg"
    },
    {
      "cell_type": "code",
      "execution_count": null,
      "metadata": {
        "id": "1ry6A2duhLFh"
      },
      "outputs": [],
      "source": [
        "nasadem = ee.Image('NASA/NASADEM_HGT/001').select('elevation')\n",
        "nasadem_roi = nasadem.clip(roi) if roi is not None else nasadem\n",
        "\n",
        "viz = {\"min\": 0, \"max\": 3000}\n",
        "Map.addLayer(nasadem_roi, viz, 'NASADEM — Elevação')\n",
        "Map"
      ],
      "id": "1ry6A2duhLFh"
    },
    {
      "cell_type": "markdown",
      "metadata": {
        "id": "9NfnhppzhLFh"
      },
      "source": [
        "## 6) Estatísticas (média, mínimo e máximo) na ROI\n",
        "Calculamos estatísticas simples de elevação dentro da ROI."
      ],
      "id": "9NfnhppzhLFh"
    },
    {
      "cell_type": "code",
      "execution_count": null,
      "metadata": {
        "id": "RG8nbDWghLFh"
      },
      "outputs": [],
      "source": [
        "if roi is None:\n",
        "    raise ValueError('Defina a ROI antes de prosseguir (asset users/... ou desenho no mapa).')\n",
        "\n",
        "stats = nasadem.reduceRegion(\n",
        "    reducer=ee.Reducer.mean().combine(ee.Reducer.minMax(), sharedInputs=True),\n",
        "    geometry=roi,\n",
        "    scale=30,\n",
        "    maxPixels=1e12\n",
        ").getInfo()\n",
        "print('Estatísticas de Elevação (m):', stats)"
      ],
      "id": "RG8nbDWghLFh"
    },
    {
      "cell_type": "markdown",
      "metadata": {
        "id": "nKouBCmxhLFh"
      },
      "source": [
        "## 7) Gráfico com `ee_to_df`\n",
        "Amostramos pontos dentro da ROI, convertemos para **DataFrame** com `geemap.ee_to_df()` e plotamos um histograma simples de elevação."
      ],
      "id": "nKouBCmxhLFh"
    },
    {
      "cell_type": "code",
      "execution_count": null,
      "metadata": {
        "id": "sOyqaSh6hLFh"
      },
      "outputs": [],
      "source": [
        "import pandas as pd\n",
        "import matplotlib.pyplot as plt\n",
        "\n",
        "# Amostra de pixels (reduza numPixels para ROIs muito grandes)\n",
        "samples_fc = nasadem.sample(region=roi, scale=30, numPixels=2000, geometries=True, seed=42)\n",
        "df = geemap.ee_to_df(samples_fc)\n",
        "\n",
        "df.head()"
      ],
      "id": "sOyqaSh6hLFh"
    },
    {
      "cell_type": "code",
      "execution_count": null,
      "metadata": {
        "id": "ZnoC_9KnhLFh"
      },
      "outputs": [],
      "source": [
        "import matplotlib.pyplot as plt\n",
        "\n",
        "plt.figure(figsize=(7,4))\n",
        "plt.hist(df['elevation'].dropna(), bins=30)\n",
        "plt.title('Distribuição de Elevação (NASADEM)')\n",
        "plt.xlabel('Elevação (m)')\n",
        "plt.ylabel('Frequência')\n",
        "plt.grid(True)\n",
        "plt.show()"
      ],
      "id": "ZnoC_9KnhLFh"
    },
    {
      "cell_type": "markdown",
      "metadata": {
        "id": "nuEr-625hLFh"
      },
      "source": [
        "## 8) Exportar a cena\n",
        "Você pode exportar a imagem recortada pela ROI como **GeoTIFF**.\n",
        "\n",
        "### Opção A) Exportar para Google Drive (servidor do GEE)\n",
        "Use `ee.batch.Export.image.toDrive` e acompanhe o status na aba **Tasks** do Code Editor."
      ],
      "id": "nuEr-625hLFh"
    },
    {
      "cell_type": "code",
      "execution_count": null,
      "metadata": {
        "id": "3nXHF5rqhLFi"
      },
      "outputs": [],
      "source": [
        "task = ee.batch.Export.image.toDrive(\n",
        "    image=nasadem_roi,\n",
        "    description='NASADEM_elevacao_ROI',\n",
        "    fileNamePrefix='NASADEM_elevacao_ROI',\n",
        "    region=roi.getInfo()['coordinates'],\n",
        "    folder='Geoquanti',\n",
        "    scale=30,\n",
        "    maxPixels=1e13\n",
        ")\n",
        "task.start()\n",
        "print('Exportação iniciada para o Google Drive. Verifique a aba **Tasks** no EE Code Editor.')"
      ],
      "id": "3nXHF5rqhLFi"
    },
    {
      "cell_type": "code",
      "source": [
        "##status\n",
        "task.status()"
      ],
      "metadata": {
        "id": "3sHHG4V4i8fg"
      },
      "id": "3sHHG4V4i8fg",
      "execution_count": null,
      "outputs": []
    },
    {
      "cell_type": "markdown",
      "metadata": {
        "id": "X-q1N-FJhLFi"
      },
      "source": [
        "### Opção B) Exportar localmente com `geemap`\n",
        "Baixa o GeoTIFF diretamente para a máquina onde o notebook está rodando."
      ],
      "id": "X-q1N-FJhLFi"
    },
    {
      "cell_type": "code",
      "execution_count": null,
      "metadata": {
        "id": "Vf0PiOPghLFi"
      },
      "outputs": [],
      "source": [
        "import geemap\n",
        "out_tif = 'nasadem_elevacao_roi.tif'\n",
        "geemap.ee_export_image(\n",
        "    nasadem_roi,\n",
        "    filename=out_tif,\n",
        "    scale=30,\n",
        "    region=roi,\n",
        "    file_per_band=False\n",
        ")\n",
        "print('Arquivo salvo em:', out_tif)"
      ],
      "id": "Vf0PiOPghLFi"
    },
    {
      "cell_type": "markdown",
      "source": [
        "## 9) Plot rasterio"
      ],
      "metadata": {
        "id": "YaxrVYeCj1N-"
      },
      "id": "YaxrVYeCj1N-"
    },
    {
      "cell_type": "code",
      "source": [
        "!pip -q install rasterio spectral"
      ],
      "metadata": {
        "id": "yAGv-RcLj5_N"
      },
      "id": "yAGv-RcLj5_N",
      "execution_count": null,
      "outputs": []
    },
    {
      "cell_type": "code",
      "source": [
        "from google.colab import drive\n",
        "drive.mount('/content/drive')"
      ],
      "metadata": {
        "id": "yXIQFTImkF7I"
      },
      "id": "yXIQFTImkF7I",
      "execution_count": null,
      "outputs": []
    },
    {
      "cell_type": "code",
      "source": [
        "import rasterio as rio\n",
        "import matplotlib.pyplot as plt\n",
        "import numpy as np\n",
        "\n",
        "with rio.open('/content/nasadem_elevacao_roi.tif') as src:\n",
        "    elev = src.read(1, masked=True)\n",
        "    left, bottom, right, top = src.bounds  # coordenadas reais do raster\n",
        "\n",
        "# stretch robusto para contraste\n",
        "vmin, vmax = np.nanpercentile(elev.compressed(), (2, 98))\n",
        "\n",
        "plt.figure(figsize=(6,5))\n",
        "plt.imshow(elev, cmap='terrain', vmin=vmin, vmax=vmax,\n",
        "           extent=[left, right, bottom, top], origin='upper')\n",
        "plt.colorbar(label='Elevação (m)')\n",
        "plt.xlabel(f'Longitude ({src.crs.to_string()})')\n",
        "plt.ylabel('Latitude')\n",
        "plt.title('NASADEM — Elevação (m)')\n",
        "plt.show()\n"
      ],
      "metadata": {
        "id": "AhkX9zvpjtSe"
      },
      "id": "AhkX9zvpjtSe",
      "execution_count": null,
      "outputs": []
    }
  ],
  "metadata": {
    "kernelspec": {
      "display_name": "Python 3",
      "language": "python",
      "name": "python3"
    },
    "language_info": {
      "name": "python",
      "version": "3.x"
    },
    "colab": {
      "provenance": [],
      "include_colab_link": true
    }
  },
  "nbformat": 4,
  "nbformat_minor": 5
}